{
 "cells": [
  {
   "cell_type": "markdown",
   "metadata": {},
   "source": [
    "#### Drift Benchmark SQLite Preparation\n",
    "This dev notebook is all about preparing driftDb.db for actual"
   ]
  },
  {
   "cell_type": "code",
   "execution_count": null,
   "metadata": {},
   "outputs": [],
   "source": [
    "# sqlite\n",
    "import sqlite3\n",
    "DRIFT_DB_PATH = \"..\\\\data\\\\driftDb.db\"\n",
    "\n",
    "sql_conxn = sqlite3.connect(DRIFT_DB_PATH)\n",
    "sql_cursor = sql_conxn.cursor()"
   ]
  },
  {
   "cell_type": "code",
   "execution_count": null,
   "metadata": {},
   "outputs": [],
   "source": [
    "# list all tables\n",
    "def list_all_tables():\n",
    "    sql_query = \"SELECT name FROM sqlite_master WHERE type='table';\"\n",
    "    sql_cursor.execute(sql_query)\n",
    "    print(\"Tables: \\n\".format(sql_cursor.fetchall()))\n",
    "    \n",
    "list_all_tables()"
   ]
  },
  {
   "cell_type": "code",
   "execution_count": null,
   "metadata": {},
   "outputs": [],
   "source": [
    "TABLE_PARAMETER = \"{TABLE_PARAMETER}\"\n",
    "DROP_TABLE_SQL = f\"DROP TABLE {TABLE_PARAMETER};\"\n",
    "GET_TABLES_SQL = \"SELECT name FROM sqlite_schema WHERE type='table';\"\n",
    "\n",
    "\n",
    "def delete_all_tables(sql_conxn):\n",
    "    tables = get_tables(sql_conxn)\n",
    "    delete_tables(sql_conxn, tables)\n",
    "\n",
    "\n",
    "def get_tables(sql_conxn):\n",
    "    sql_cursor = sql_conxn.cursor()\n",
    "    sql_cursor.execute(GET_TABLES_SQL)\n",
    "    tables = sql_cursor.fetchall()\n",
    "    return tables\n",
    "\n",
    "\n",
    "def delete_tables(sql_conxn, tables):\n",
    "    sql_cursor = sql_conxn.cursor()\n",
    "    for table, in tables:\n",
    "        sql = DROP_TABLE_SQL.replace(TABLE_PARAMETER, table)\n",
    "        sql_cursor.execute(sql)\n",
    "        \n",
    "    \n",
    "delete_all_tables(sql_conxn)    \n",
    "\n",
    "list_all_tables()\n",
    "\n",
    "sql_conxn.commit()"
   ]
  },
  {
   "cell_type": "markdown",
   "metadata": {},
   "source": [
    "SQLite Basics"
   ]
  },
  {
   "cell_type": "code",
   "execution_count": null,
   "metadata": {},
   "outputs": [],
   "source": [
    "# CREATE\n",
    "\n",
    "sql_cursor.execute(\"CREATE TABLE movie(title, year, score)\")\n",
    "res = sql_cursor.execute(\"SELECT name FROM sqlite_master\")\n",
    "res.fetchone()"
   ]
  },
  {
   "cell_type": "code",
   "execution_count": null,
   "metadata": {},
   "outputs": [],
   "source": [
    "sql_cursor.execute(\"\"\"\n",
    "    INSERT INTO movie VALUES\n",
    "        ('Monty Python and the Holy Grail', 1975, 8.2),\n",
    "        ('And Now for Something Completely Different', 1971, 7.5)\n",
    "\"\"\")\n"
   ]
  },
  {
   "cell_type": "code",
   "execution_count": null,
   "metadata": {},
   "outputs": [],
   "source": [
    "sql_conxn.commit()"
   ]
  },
  {
   "cell_type": "code",
   "execution_count": null,
   "metadata": {},
   "outputs": [],
   "source": [
    "\n",
    "def insert_sample(chat_id, sample_dt, cos_sim, completion):\n",
    "    sql = \"INSERT INTO tSample (chat_id, sample_dt, cos_sim, completion ) VALUES ('{}', '{}', '{}', '{}');\".format(chat_id, sample_dt, cos_sim, completion)\n",
    "    print(sql)\n",
    "    \n",
    "insert_sample(\"chat_id\", \"sample_dt\", \"cos_sim\", \"completion\")\n"
   ]
  },
  {
   "cell_type": "code",
   "execution_count": null,
   "metadata": {},
   "outputs": [],
   "source": [
    "res = sql_cursor.execute(\"SELECT score FROM movie\")\n",
    "res.fetchall()"
   ]
  },
  {
   "cell_type": "code",
   "execution_count": null,
   "metadata": {},
   "outputs": [],
   "source": [
    "data = [\n",
    "    (\"Monty Python Live at the Hollywood Bowl\", 1982, 7.9),\n",
    "    (\"Monty Python's The Meaning of Life\", 1983, 7.5),\n",
    "    (\"Monty Python's Life of Brian\", 1979, 8.0),\n",
    "]\n",
    "sql_cursor.executemany(\"INSERT INTO movie VALUES(?, ?, ?)\", data)\n",
    "sql_conxn.commit()  # Remember to commit the transaction after executing INSERT.\n"
   ]
  },
  {
   "cell_type": "code",
   "execution_count": null,
   "metadata": {},
   "outputs": [],
   "source": [
    "for row in sql_cursor.execute(\"SELECT year, title FROM movie ORDER BY year\"):\n",
    "    print(row)\n"
   ]
  },
  {
   "cell_type": "code",
   "execution_count": null,
   "metadata": {},
   "outputs": [],
   "source": [
    "# Which database file are you using?\n",
    "import sqlite3\n",
    "sql_conxn = sqlite3.connect(DRIFT_DB_PATH)\n",
    "sql_cursor = sql_conxn.cursor()\n",
    "sql_cursor.execute(\"PRAGMA database_list\")\n",
    "rows = sql_cursor.fetchall()\n",
    "\n",
    "for row in rows:\n",
    "    print(row[0], row[1], row[2])\n",
    "\n",
    "sql_conxn.close()\n"
   ]
  },
  {
   "cell_type": "code",
   "execution_count": null,
   "metadata": {},
   "outputs": [],
   "source": [
    "new_con = sqlite3.connect(DRIFT_DB_PATH)\n",
    "new_cursor = new_con.cursor()\n",
    "res = new_cursor.execute(\"DROP TABLE IF EXISTS movie\")\n",
    "res.fetchall()\n",
    "res = new_cursor.execute(\"SELECT name FROM sqlite_master\")\n",
    "res.fetchone()\n",
    "new_con.close()"
   ]
  },
  {
   "cell_type": "markdown",
   "metadata": {},
   "source": [
    "#### create the table and functions to insert data"
   ]
  },
  {
   "cell_type": "code",
   "execution_count": null,
   "metadata": {},
   "outputs": [],
   "source": [
    "import sqlite3\n",
    "import datetime\n",
    "\n",
    "# SQLite benchmark sample and completion functions\n",
    "# user\n",
    "# insert_benchmark(\"chat_id00000000\", \"bmk_prompt\", \"bmk_completion\")\n",
    "# insert_api_completion(\"chat_id00000000\", \"bmk_prompt\", \"bmk_completion\", 0.987654321, \"api_completion\")\n",
    "\n",
    "run_time = ct = datetime.datetime.now().replace(second=0, microsecond=0)\n",
    "\n",
    "# inserts default value of 1.0 for cos_sim\n",
    "def insert_benchmark(chat_id, bmk_prompt, bmk_completion):\n",
    "    sql = \"INSERT INTO tSample (chat_id, run_time, bmk_prompt, bmk_completion, cos_sim) VALUES ('{}', '{}', \\\"{}\\\", \\\"{}\\\", {});\".format(chat_id, run_time, bmk_prompt, bmk_completion, 1.0);\n",
    "    print(sql)\n",
    "    sql_cursor.execute(sql)\n",
    "    sql_conxn.commit()\n",
    "    \n",
    "\n",
    "def insert_api_completion(chat_id, bmk_prompt, bmk_completion, cos_sim, api_completion):\n",
    "    sql = \"INSERT INTO tSample (chat_id, run_time, bmk_prompt, bmk_completion, cos_sim, api_completion) VALUES ('{}', '{}', \\\"{}\\\", \\\"{}\\\", {}, \\\"{}\\\");\".format(chat_id, run_time, bmk_prompt, bmk_completion, cos_sim, api_completion);\n",
    "    print(sql)\n",
    "    sql_cursor.execute(sql)\n",
    "    sql_conxn.commit()    \n",
    "\n",
    "\n",
    "try:\n",
    "    sql_conxn = sqlite3.connect(DRIFT_DB_PATH)\n",
    "    sql_cursor = sql_conxn.cursor()\n",
    "    #sql_cursor.execute(\"\"\" PRAGMA foreign_keys = 0;\"\"\")\n",
    "    # sql_cursor.execute(\"\"\" DELETE FROM tSample;\"\"\")\n",
    "    # sql_cursor.execute(\"\"\" DROP TABLE tSample;\"\"\")\n",
    "    sql_cursor.execute(\"\"\" CREATE TABLE tSample (\n",
    "          chat_id NOT NULL\n",
    "        , run_time REAL (64) NOT NULL DEFAULT ((datetime('now', 'localtime')))\n",
    "        , bmk_prompt TEXT NOT NULL\n",
    "        , bmk_completion TEXT NOT NULL\n",
    "        , cos_sim NUMERIC NOT NULL\n",
    "        , api_completion TEXT );\"\"\")\n",
    "\n",
    "    # sql_cursor.execute(\"\"\" PRAGMA foreign_keys = 1; \"\"\")\n",
    "    res = sql_cursor.execute(\"SELECT name FROM sqlite_master\")\n",
    "    res.fetchone()\n",
    "\n",
    "\n",
    "    insert_benchmark(\"chat_id00000000\", \"bmk_prompt\", \"bmk_completion\")\n",
    "    insert_api_completion(\"chat_id00000000\", \"bmk_prompt\", \"bmk_completion\", 0.987654321, \"api_completion\")\n",
    "\n",
    "    res = sql_cursor.execute(\"SELECT * FROM tSample;\")\n",
    "    rows = res.fetchall()\n",
    "    print(json.dumps(rows, indent=4))\n",
    "\n",
    "    sql_cursor.execute(\"DELETE FROM tSample;\")\n",
    "    sql_conxn.commit()\n",
    "\n",
    "    print(\"sqlite3 script completed.\")\n",
    "    \n",
    "except sqlite3.Error as error:\n",
    "    print(\"sqlite3.Error: \", error)\n",
    "finally:\n",
    "    if sql_conxn:\n",
    "        sql_cursor.close()\n",
    "        sql_conxn.close()   \n",
    "\n"
   ]
  },
  {
   "cell_type": "code",
   "execution_count": null,
   "metadata": {},
   "outputs": [],
   "source": [
    "# have a look a the tSample table\n",
    "import json\n",
    "sql_conxn = sqlite3.connect(DRIFT_DB_PATH)\n",
    "sql_cursor = sql_conxn.cursor()\n",
    "res = sql_cursor.execute(\"SELECT * FROM tSample;\")\n",
    "rows = res.fetchall()\n",
    "print(json.dumps(rows, indent=4))\n",
    "sql_conxn.close()\n"
   ]
  },
  {
   "cell_type": "code",
   "execution_count": null,
   "metadata": {},
   "outputs": [],
   "source": [
    "# delete all rows\n",
    "sql_conxn = sqlite3.connect(DRIFT_DB_PATH)\n",
    "sql_cursor = sql_conxn.cursor()\n",
    "sql_cursor.execute(\"DELETE FROM tSample;\")\n",
    "sql_conxn.commit()\n",
    "sql_cursor.close()\n",
    "sql_conxn.close()"
   ]
  }
 ],
 "metadata": {
  "kernelspec": {
   "display_name": "base",
   "language": "python",
   "name": "python3"
  },
  "language_info": {
   "codemirror_mode": {
    "name": "ipython",
    "version": 3
   },
   "file_extension": ".py",
   "mimetype": "text/x-python",
   "name": "python",
   "nbconvert_exporter": "python",
   "pygments_lexer": "ipython3",
   "version": "3.11.4"
  },
  "orig_nbformat": 4
 },
 "nbformat": 4,
 "nbformat_minor": 2
}
