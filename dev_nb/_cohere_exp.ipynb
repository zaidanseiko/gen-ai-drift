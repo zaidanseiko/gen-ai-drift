{
 "cells": [
  {
   "cell_type": "markdown",
   "metadata": {},
   "source": [
    "Nothing special here - just a file to experiment with"
   ]
  },
  {
   "cell_type": "code",
   "execution_count": null,
   "metadata": {},
   "outputs": [],
   "source": [
    "import cohere\n",
    "import os\n",
    "from dotenv import load_dotenv\n",
    "load_dotenv()\n",
    "\n",
    "api_key = os.getenv('COHERE_API_KEY')\n",
    "\n",
    "def IsOkString(value):\n",
    "    if not value or len(value)==0:\n",
    "        return False \n",
    "    else:\n",
    "        return True\n",
    "\n",
    "the_prompt = 'What should I do if I forget how to write code?'\n",
    "\n",
    "cohere_client = cohere.Client(api_key) # This is your trial API key\n",
    "response = cohere_client.generate(\n",
    "  model='command',\n",
    "  prompt=the_prompt,\n",
    "  max_tokens=300,\n",
    "  temperature=0.9,\n",
    "  k=0,\n",
    "  stop_sequences=[],\n",
    "  return_likelihoods='NONE')\n",
    "\n",
    "if(IsOkString(response.generations[0].text)):\n",
    "    completion = response.generations[0].text.replace(\"\\n\", \" \")\n",
    "    print(\"Cohere completion: {}\".format(completion)) \n",
    "else:\n",
    "    print('Completion was null or empty.')\n",
    "    "
   ]
  },
  {
   "cell_type": "markdown",
   "metadata": {},
   "source": [
    "# output\n",
    "Cohere completion:  If you forget how to write code, there are a few things you can do to help yourself remember. First, try to break down the problem into smaller pieces. This will help you to understand the code better and will make it easier to remember. Second, try to find a reference or example that you can use to help you remember the code. You can also ask a friend or colleague for help. Finally, if you are still having trouble, you can try to find a coding tutorial or class to help you learn the basics."
   ]
  }
 ],
 "metadata": {
  "kernelspec": {
   "display_name": "base",
   "language": "python",
   "name": "python3"
  },
  "language_info": {
   "codemirror_mode": {
    "name": "ipython",
    "version": 3
   },
   "file_extension": ".py",
   "mimetype": "text/x-python",
   "name": "python",
   "nbconvert_exporter": "python",
   "pygments_lexer": "ipython3",
   "version": "3.11.4"
  },
  "orig_nbformat": 4
 },
 "nbformat": 4,
 "nbformat_minor": 2
}
