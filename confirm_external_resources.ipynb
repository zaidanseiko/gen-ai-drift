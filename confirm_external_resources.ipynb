{
 "cells": [
  {
   "cell_type": "markdown",
   "metadata": {},
   "source": [
    "Check that each of the following are configured correctly:\n",
    "\n",
    "1. SQLite\n",
    "1. Weaviate\n",
    "1. Cohere API\n",
    "1. Nomic Atlas"
   ]
  },
  {
   "cell_type": "code",
   "execution_count": null,
   "metadata": {},
   "outputs": [],
   "source": [
    "# CHECK SQLite\n",
    "import sqlite3\n",
    "\n",
    "DRIFT_DB_PATH = \"..\\\\data\\\\driftDb.db\"\n",
    "\n",
    "con = sqlite3.connect(DRIFT_DB_PATH)\n",
    "cursor = con.cursor()\n",
    "\n",
    "# list all tables\n",
    "def list_all_tables():\n",
    "    sql_query = \"SELECT name FROM sqlite_master WHERE type='table';\"\n",
    "    cursor.execute(sql_query)\n",
    "    tables = cursor.fetchall()\n",
    "    print(\"Table count: \".format(len(tables)))\n",
    "    print(\"Tables: \\n\".format(tables))\n",
    "      \n",
    "list_all_tables()"
   ]
  },
  {
   "cell_type": "code",
   "execution_count": null,
   "metadata": {},
   "outputs": [],
   "source": [
    "# CHECK WEAVIATE\n",
    "\n",
    "import weaviate\n",
    "\n",
    "print(\"Creating Weaviate client\")\n",
    "client = weaviate.Client(\"http://localhost:8080\")\n",
    "print(\"Client created\")\n",
    "\n",
    "print(\"Looking for schemas\")\n",
    "client.schema.get()\n",
    "print(\"All schemas listed.\")\n",
    "\n",
    "print(\"Deleting all schemas\")\n",
    "client.schema.delete_all()\n",
    "print(\"All schemas deleted.\")"
   ]
  },
  {
   "cell_type": "code",
   "execution_count": null,
   "metadata": {},
   "outputs": [],
   "source": [
    "# COHERE AI\n",
    "\n",
    "import cohere\n",
    "import os\n",
    "from dotenv import load_dotenv\n",
    "load_dotenv()\n",
    "\n",
    "api_key = os.getenv('COHERE_API_KEY')\n",
    "\n",
    "def IsOkString(value):\n",
    "    if not value or len(value)==0:\n",
    "        return False \n",
    "    else:\n",
    "        return True\n",
    "\n",
    "the_prompt = 'What should I do if I forget how to write code?'\n",
    "\n",
    "cohere_client = cohere.Client(api_key) # This is your trial API key\n",
    "response = cohere_client.generate(\n",
    "  model='command',\n",
    "  prompt=the_prompt,\n",
    "  max_tokens=300,\n",
    "  temperature=0.9,\n",
    "  k=0,\n",
    "  stop_sequences=[],\n",
    "  return_likelihoods='NONE')\n",
    "\n",
    "if(IsOkString(response.generations[0].text)):\n",
    "    completion = response.generations[0].text.replace(\"\\n\", \" \")\n",
    "    print(\"Cohere completion: {}\".format(completion)) \n",
    "else:\n",
    "    print('Completion was null or empty.')"
   ]
  },
  {
   "cell_type": "code",
   "execution_count": null,
   "metadata": {},
   "outputs": [],
   "source": [
    "import nomic\n",
    "from nomic import atlas\n",
    "import numpy as np\n",
    "import os\n",
    "from dotenv import load_dotenv\n",
    "load_dotenv()\n",
    "\n",
    "api_key = os.getenv('NOMIC_API_KEY')\n",
    "nomic.login(api_key)       \n",
    "\n",
    "num_embeddings = 10000\n",
    "embeddings = np.random.rand(num_embeddings, 256)\n",
    "        \n",
    "project = atlas.map_embeddings(embeddings=embeddings)\n",
    "print(project.maps)"
   ]
  },
  {
   "cell_type": "markdown",
   "metadata": {},
   "source": [
    "When you run the above code, you should get something like this at the end of the output:\n",
    "\n",
    "frightened-bronco: https://atlas.nomic.ai/map/c5cd04b1-e129-4344-b347-e53a6962f232/b6283232-68f5-4c81-862c-79ec2369c035\n",
    "\n",
    "Open the URL\n",
    "\n",
    "You should see something like this:\n",
    "\n",
    "\n",
    "![Shows a visualization of the vectors generated above](img//frightened-bronco.png)"
   ]
  },
  {
   "cell_type": "markdown",
   "metadata": {},
   "source": []
  }
 ],
 "metadata": {
  "language_info": {
   "name": "python"
  },
  "orig_nbformat": 4
 },
 "nbformat": 4,
 "nbformat_minor": 2
}
