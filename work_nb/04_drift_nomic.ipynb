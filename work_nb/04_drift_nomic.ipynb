{
 "cells": [
  {
   "cell_type": "markdown",
   "metadata": {},
   "source": [
    "https://docs.nomic.ai/vector_database.html#weaviate"
   ]
  },
  {
   "cell_type": "code",
   "execution_count": null,
   "metadata": {},
   "outputs": [],
   "source": [
    "import weaviate\n",
    "import nomic\n",
    "from nomic import AtlasProject\n",
    "import numpy as np\n",
    "import os\n",
    "from dotenv import load_dotenv\n",
    "load_dotenv()\n",
    "\n",
    "api_key = os.getenv('NOMIC_API_KEY')\n",
    "nomic.login(api_key)       \n",
    "\n",
    "print(\"Let's a go!\")\n",
    "\n",
    "print(\"Connecting to weaviate instance on localhost:8080...\")\n",
    "client = weaviate.Client(\"http://localhost:8080\")\n",
    "print(\"Client created\")"
   ]
  },
  {
   "cell_type": "markdown",
   "metadata": {},
   "source": [
    "Next we'll gather all of the classes and their respective properties from the database. To do this we will iterate through the database schema and append the classes and properties list."
   ]
  },
  {
   "cell_type": "code",
   "execution_count": null,
   "metadata": {},
   "outputs": [],
   "source": [
    "schema = client.schema.get()\n",
    "\n",
    "classes = []\n",
    "props = []\n",
    "for c in schema[\"classes\"]:\n",
    "    classes.append(c[\"class\"])\n",
    "    temp = []\n",
    "    for p in c[\"properties\"]:\n",
    "        if p[\"dataType\"] == [\"text\"]:\n",
    "            temp.append(p[\"name\"])\n",
    "    props.append(temp)"
   ]
  },
  {
   "cell_type": "markdown",
   "metadata": {},
   "source": [
    "Now we will make a helper function, this will allow us to map classes that are larger than 10,000 data points. It queries the database while allowing us to use a cursor to store our place."
   ]
  },
  {
   "cell_type": "code",
   "execution_count": null,
   "metadata": {},
   "outputs": [],
   "source": [
    "def get_batch_with_cursor(\n",
    "    client, class_name, class_properties, batch_size, cursor=None\n",
    "):\n",
    "    query = (\n",
    "        client.query.get(class_name, class_properties)\n",
    "        .with_additional([\"vector\", \"id\"])\n",
    "        .with_limit(batch_size)\n",
    "    )\n",
    "\n",
    "    if cursor is not None:\n",
    "        return query.with_after(cursor).do()\n",
    "    else:\n",
    "        return query.do()\n"
   ]
  },
  {
   "cell_type": "markdown",
   "metadata": {},
   "source": [
    "The rest of the tutorial will be inside of a for loop. This allows us to create an Atlas Map for all of the classes in the database.\n",
    "\n",
    "If you would like to map only a single class set c equal to the class name and p equal to a list with the class properties"
   ]
  },
  {
   "cell_type": "code",
   "execution_count": null,
   "metadata": {},
   "outputs": [],
   "source": [
    "for c, p in zip(classes, props):\n",
    "    project = AtlasProject(\n",
    "    name=c,\n",
    "    unique_id_field=\"id\",\n",
    "    modality=\"embedding\",\n",
    ")"
   ]
  },
  {
   "cell_type": "markdown",
   "metadata": {},
   "source": [
    "Now we use a while loop to access all of the data from each class, which we do in batches using our helper function, in this case we have a batch size of 25, but it could be 10,000. We break the while loop when a call to the helper function returns no values.\n",
    "We then set our cursor to the id of the datapoint we left off at, and append the vectors to a list, which we then convert into a numpy array.\n",
    "\n",
    "## To Not Include Properties\n",
    "To not include a property add the property name to the list titled not_data. If it the property is an additional property add the property name to un_data\n",
    "\n",
    "We then parse our data only including the properties we want. Finally we add the embeddings to our atlas project along with our parsed data."
   ]
  },
  {
   "cell_type": "code",
   "execution_count": null,
   "metadata": {},
   "outputs": [],
   "source": [
    "cursor = None\n",
    "while True:\n",
    "    response = get_batch_with_cursor(client, c, p, 25, cursor)\n",
    "    if len(response[\"data\"][\"Get\"][c]) == 0:\n",
    "        break\n",
    "    cursor = response[\"data\"][\"Get\"][c][-1][\"_additional\"][\"id\"]\n",
    "    vectors = []\n",
    "    for i in response[\"data\"][\"Get\"][c]:\n",
    "        vectors.append(i[\"_additional\"][\"vector\"])\n",
    "\n",
    "    embeddings = np.array(vectors)\n",
    "    data = []\n",
    "    not_data = [\"_additional\"]\n",
    "    un_data = [\"vector\"]\n",
    "    for i in response[\"data\"][\"Get\"][c]:\n",
    "        j = {key: value for key, value in i.items() if key not in not_data}\n",
    "        k = {\n",
    "            key: value\n",
    "            for key, value in i[\"_additional\"].items()\n",
    "            if key not in un_data\n",
    "        }\n",
    "        j = j | k\n",
    "        data.append(j)\n",
    "    with project.wait_for_project_lock():\n",
    "        project.add_embeddings(\n",
    "            embeddings=embeddings,\n",
    "            data=data,\n",
    "        )\n"
   ]
  },
  {
   "cell_type": "markdown",
   "metadata": {},
   "source": [
    "Finally we will build our map with the given parameters using create_index()\n",
    "\n",
    "Add Topic Labels\n",
    "\n",
    "If you want labels on your atlas map add the following line of code using the property name that you want to build the labels for: topic_label_field= \"PROPERTY NAME\""
   ]
  },
  {
   "cell_type": "code",
   "execution_count": null,
   "metadata": {},
   "outputs": [],
   "source": [
    "project.create_index(\n",
    "    name=c,\n",
    "    colorable_fields=p,\n",
    "    build_topic_model=True,\n",
    ")"
   ]
  },
  {
   "cell_type": "markdown",
   "metadata": {},
   "source": [
    "https://raw.githubusercontent.com/nomic-ai/maps/main/maps/weaviate_script.py"
   ]
  },
  {
   "cell_type": "code",
   "execution_count": null,
   "metadata": {},
   "outputs": [],
   "source": [
    "import weaviate\n",
    "from nomic import AtlasProject\n",
    "import numpy as np\n",
    "import nomic\n",
    "import os\n",
    "from dotenv import load_dotenv\n",
    "load_dotenv()\n",
    "\n",
    "api_key = os.getenv('NOMIC_API_KEY')\n",
    "nomic.login(api_key)  \n",
    "\n",
    "print(\"Let's a go!\")\n",
    "\n",
    "print(\"Connecting to weaviate instance on localhost:8080...\")\n",
    "client = weaviate.Client(\"http://localhost:8080\")\n",
    "print(\"Client created\")\n",
    "\n",
    "schema = client.schema.get()\n",
    "\n",
    "classes = []\n",
    "props = []\n",
    "for c in schema[\"classes\"]:\n",
    "    classes.append(c[\"class\"])\n",
    "    temp = []\n",
    "    for p in c[\"properties\"]:\n",
    "        if p[\"dataType\"] == [\"text\"]:\n",
    "            temp.append(p[\"name\"])\n",
    "    props.append(temp)\n",
    "\n",
    "\n",
    "def get_batch_with_cursor(\n",
    "    client, class_name, class_properties, batch_size, cursor=None\n",
    "):\n",
    "    query = (\n",
    "        client.query.get(class_name, class_properties)\n",
    "        .with_additional([\"vector\", \"id\"])\n",
    "        .with_limit(batch_size)\n",
    "    )\n",
    "\n",
    "    if cursor is not None:\n",
    "        return query.with_after(cursor).do()\n",
    "    else:\n",
    "        return query.do()\n",
    "\n",
    "# If you get one of these errors:\n",
    "# nomic.project:wait_for_project_lock:904 - DriftBenchmark: Waiting for Project Lock Release.\n",
    "# All you can do is restart you python kernel\n",
    "# And change the name of the project, specified below by 'c'\n",
    "# In this drift benchmark project, there should only be one class: DriftBenchmark\n",
    "for c, p in zip(classes, props):\n",
    "    project = AtlasProject(\n",
    "        name='DriftBenchmark002', # change this\n",
    "        unique_id_field=\"id\",\n",
    "        modality=\"embedding\",\n",
    "    )\n",
    "    count = 0\n",
    "    cursor = None\n",
    "    while True:\n",
    "        response = get_batch_with_cursor(client, c, p, 25, cursor)\n",
    "        count += 1\n",
    "        if len(response[\"data\"][\"Get\"][c]) == 0:\n",
    "            break\n",
    "        cursor = response[\"data\"][\"Get\"][c][-1][\"_additional\"][\"id\"]\n",
    "        vectors = []\n",
    "        for i in response[\"data\"][\"Get\"][c]:\n",
    "            vectors.append(i[\"_additional\"][\"vector\"])\n",
    "\n",
    "        embeddings = np.array(vectors)\n",
    "        data = []\n",
    "        not_data = [\"_additional\"]\n",
    "        un_data = [\"vector\"]\n",
    "        for i in response[\"data\"][\"Get\"][c]:\n",
    "            j = {key: value for key, value in i.items() if key not in not_data}\n",
    "            k = {\n",
    "                key: value\n",
    "                for key, value in i[\"_additional\"].items()\n",
    "                if key not in un_data\n",
    "            }\n",
    "            j = j | k\n",
    "            data.append(j)\n",
    "        with project.wait_for_project_lock():\n",
    "            project.add_embeddings(\n",
    "                embeddings=embeddings,\n",
    "                data=data,\n",
    "            )\n",
    "    project.rebuild_maps()\n",
    "    project.create_index(\n",
    "        name=c,\n",
    "        colorable_fields=p,\n",
    "        build_topic_model=True,\n",
    "    )"
   ]
  },
  {
   "cell_type": "markdown",
   "metadata": {},
   "source": [
    "If all goes well, you should see something like this:\n",
    "nomic.project:_create_project:779 - Creating project `DriftBenchmark002` in organization `zaidanseiko`\n",
    "nomic.project:_add_data:1401 - Upload succeeded.\n",
    "nomic.project:rebuild_maps:1472 - Updating maps in project `DriftBenchmark002`\n",
    "nomic.project:create_index:1111 - Created map `DriftBenchmark` in project `DriftBenchmark002`: \n",
    "https://atlas.nomic.ai/map/13567d0e-61f6-425a-b27d-54483931ef0a/3d26669f-746a-48d6-9755-9a6d60305a1b\n",
    "\n",
    "Open that URL and explore your benchmark data.\n",
    "You should see something like this:\n",
    "\n",
    "![Shows a visualization of the vectors generated above](img//frightened-bronco.png)"
   ]
  }
 ],
 "metadata": {
  "kernelspec": {
   "display_name": "base",
   "language": "python",
   "name": "python3"
  },
  "language_info": {
   "codemirror_mode": {
    "name": "ipython",
    "version": 3
   },
   "file_extension": ".py",
   "mimetype": "text/x-python",
   "name": "python",
   "nbconvert_exporter": "python",
   "pygments_lexer": "ipython3",
   "version": "3.11.4"
  },
  "orig_nbformat": 4
 },
 "nbformat": 4,
 "nbformat_minor": 2
}
